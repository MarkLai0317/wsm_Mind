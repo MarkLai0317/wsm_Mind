{
 "cells": [
  {
   "cell_type": "code",
   "execution_count": 4,
   "metadata": {},
   "outputs": [],
   "source": [
    "import DataParser\n",
    "import IR_functions\n",
    "import pandas as pd\n",
    "import os\n",
    "\n",
    "small_valid_behaviors_file = 'data/MINDsmall_dev/behaviors.tsv'\n",
    "\n",
    "behavior_path = small_valid_behaviors_file\n",
    "\n",
    "behavior_df = pd.DataFrame(pd.read_csv(behavior_path, index_col=0, sep = \"\\t\",header=None))\\\n",
    "        .rename_axis(index='impressionID').rename(columns={1: 'userID', 2: 'time', 3: 'history', 4: 'impressions' })"
   ]
  },
  {
   "cell_type": "code",
   "execution_count": 10,
   "metadata": {},
   "outputs": [],
   "source": [
    "import numpy as np\n",
    "\n",
    "def getImpressionTruth(impressionID):\n",
    "  news = np.array(behavior_df.at[impressionID, 'impressions'].split(' '))\n",
    "  news = np.char.split(news, '-')\n",
    "\n",
    "  impression_answer = []\n",
    "  for i in range(0, news.size):\n",
    "      impression_answer.append(news[i][1])\n",
    "          \n",
    "  return np.array(impression_answer)"
   ]
  },
  {
   "cell_type": "code",
   "execution_count": 12,
   "metadata": {},
   "outputs": [
    {
     "output_type": "stream",
     "name": "stdout",
     "text": []
    }
   ],
   "source": [
    "truth_list = []\n",
    "\n",
    "for impression_id in range(1, behavior_df.index.size):\n",
    "\n",
    "    print(\"(\", impression_id, \", \", behavior_df.index.size, \")\", end='\\r')\n",
    "\n",
    "    truth = getImpressionTruth(impression_id)\n",
    "\n",
    "    truth_list.append(truth)"
   ]
  },
  {
   "cell_type": "code",
   "execution_count": 15,
   "metadata": {},
   "outputs": [],
   "source": [
    "import numpy as np\n",
    "import os\n",
    "\n",
    "with open(os.path.join('truth', 'small_valid_truth.tsv'), 'w') as f:\n",
    "  for i, t in zip(behavior_df.index, truth_list):\n",
    "    f.write(str(i) + \"\\t[\" + \", \".join(map(str, t)) + \"]\\n\")"
   ]
  },
  {
   "cell_type": "code",
   "execution_count": null,
   "metadata": {},
   "outputs": [],
   "source": []
  }
 ],
 "metadata": {
  "interpreter": {
   "hash": "2f98bebb5ac28debbd84e39f7906392814c87ccdee46a21d644c3351213bc18f"
  },
  "kernelspec": {
   "name": "python3",
   "display_name": "Python 3.7.3 64-bit ('base': conda)"
  },
  "language_info": {
   "codemirror_mode": {
    "name": "ipython",
    "version": 3
   },
   "file_extension": ".py",
   "mimetype": "text/x-python",
   "name": "python",
   "nbconvert_exporter": "python",
   "pygments_lexer": "ipython3",
   "version": "3.7.3"
  }
 },
 "nbformat": 4,
 "nbformat_minor": 2
}