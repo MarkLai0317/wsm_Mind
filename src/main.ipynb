{
 "metadata": {
  "language_info": {
   "codemirror_mode": {
    "name": "ipython",
    "version": 3
   },
   "file_extension": ".py",
   "mimetype": "text/x-python",
   "name": "python",
   "nbconvert_exporter": "python",
   "pygments_lexer": "ipython3",
   "version": "3.7.3"
  },
  "orig_nbformat": 4,
  "kernelspec": {
   "name": "python3",
   "display_name": "Python 3.7.3 64-bit ('base': conda)"
  },
  "interpreter": {
   "hash": "2f98bebb5ac28debbd84e39f7906392814c87ccdee46a21d644c3351213bc18f"
  }
 },
 "nbformat": 4,
 "nbformat_minor": 2,
 "cells": [
  {
   "cell_type": "code",
   "execution_count": null,
   "metadata": {},
   "outputs": [],
   "source": [
    "import DataParser \n",
    "import IR_functions\n",
    "import os\n",
    "\n",
    "news_info_file = '../newsinfo/news_embed.tsv'\n",
    "test_behaviors_file = '../test/behaviors.tsv'\n",
    "\n",
    "dp = DataParser.DataParser(news_info_file, test_behaviors_file)"
   ]
  },
  {
   "cell_type": "code",
   "execution_count": null,
   "metadata": {},
   "outputs": [],
   "source": [
    "number_of_impressions = dp.impressionNum()\n",
    "score_list = []\n",
    "answer_list = []\n",
    "truth = []\n",
    "\n",
    "print(\"Number of Impression: \", number_of_impressions)"
   ]
  },
  {
   "cell_type": "code",
   "execution_count": null,
   "metadata": {},
   "outputs": [],
   "source": [
    "for user_impression_ID in range(1, number_of_impressions):\n",
    "  user_history = dp.getHistory(user_impression_ID)\n",
    "  normalized_history = IR_functions.normalizeHistory(user_history)\n",
    "  \n",
    "  user_impression = dp.getImpression(user_impression_ID, data_type = 'test')\n",
    "  score = IR_functions.cosSimilarity(normalized_history, user_impression)\n",
    "  score_list.append(score)\n",
    "\n",
    "  #truth.append(user_impression[1])\n",
    "\n",
    "  answer = IR_functions.sortCandidateNews(score)\n",
    "  answer_list.append(answer)"
   ]
  },
  {
   "cell_type": "code",
   "execution_count": null,
   "metadata": {},
   "outputs": [],
   "source": [
    "import numpy as np\n",
    "import os\n",
    "\n",
    "with open(os.path.join('../result', 'prediction.txt'), 'w') as f:\n",
    "  impr_index = 0\n",
    "  for preds in answer_list:\n",
    "      impr_index += 1\n",
    "      pred_rank = (np.argsort(np.argsort(preds)[::-1]) + 1).tolist()\n",
    "      pred_rank = '[' + ','.join([str(i) for i in pred_rank]) + ']'\n",
    "      f.write(' '.join([str(impr_index), pred_rank])+ '\\n')"
   ]
  }
<<<<<<< HEAD:main.ipynb
 ]
}
=======
 ],
 "metadata": {
  "interpreter": {
   "hash": "2f98bebb5ac28debbd84e39f7906392814c87ccdee46a21d644c3351213bc18f"
  },
  "kernelspec": {
   "display_name": "Python 3",
   "language": "python",
   "name": "python3"
  },
  "language_info": {
   "codemirror_mode": {
    "name": "ipython",
    "version": 3
   },
   "file_extension": ".py",
   "mimetype": "text/x-python",
   "name": "python",
   "nbconvert_exporter": "python",
   "pygments_lexer": "ipython3",
   "version": "3.8.3"
  }
 },
 "nbformat": 4,
 "nbformat_minor": 2
}
>>>>>>> 8dc28d6342790a1283e4a5916883ccf63ed8809a:src/main.ipynb
