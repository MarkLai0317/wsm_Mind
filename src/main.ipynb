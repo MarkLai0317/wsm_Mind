{
 "cells": [
  {
   "cell_type": "code",
   "execution_count": 2,
   "metadata": {},
   "outputs": [],
   "source": [
    "import DataParser \n",
    "import IR_functions\n",
    "import os\n",
    "\n",
    "news_info_file = '../newsinfo/news_embed.tsv'\n",
    "test_behaviors_file = '../test/behaviors.tsv'\n",
    "\n",
    "dp = DataParser.DataParser(news_info_file, test_behaviors_file)"
   ]
  },
  {
   "cell_type": "code",
   "execution_count": 3,
   "metadata": {},
   "outputs": [
    {
     "name": "stdout",
     "output_type": "stream",
     "text": [
      "Number of Impression:  10\n"
     ]
    }
   ],
   "source": [
    "number_of_impressions = dp.impressionNum()\n",
    "score_list = []\n",
    "answer_list = []\n",
    "truth = []\n",
    "\n",
    "print(\"Number of Impression: \", number_of_impressions)"
   ]
  },
  {
   "cell_type": "code",
   "execution_count": 1,
   "metadata": {},
   "outputs": [
    {
     "ename": "NameError",
     "evalue": "name 'number_of_impressions' is not defined",
     "output_type": "error",
     "traceback": [
      "\u001b[0;31m---------------------------------------------------------------------------\u001b[0m",
      "\u001b[0;31mNameError\u001b[0m                                 Traceback (most recent call last)",
      "\u001b[0;32m<ipython-input-1-504fbc325f64>\u001b[0m in \u001b[0;36m<module>\u001b[0;34m\u001b[0m\n\u001b[0;32m----> 1\u001b[0;31m \u001b[0;32mfor\u001b[0m \u001b[0muser_impression_ID\u001b[0m \u001b[0;32min\u001b[0m \u001b[0mrange\u001b[0m\u001b[0;34m(\u001b[0m\u001b[0;36m1\u001b[0m\u001b[0;34m,\u001b[0m \u001b[0mnumber_of_impressions\u001b[0m\u001b[0;34m)\u001b[0m\u001b[0;34m:\u001b[0m\u001b[0;34m\u001b[0m\u001b[0;34m\u001b[0m\u001b[0m\n\u001b[0m\u001b[1;32m      2\u001b[0m   \u001b[0muser_history\u001b[0m \u001b[0;34m=\u001b[0m \u001b[0mdp\u001b[0m\u001b[0;34m.\u001b[0m\u001b[0mgetHistory\u001b[0m\u001b[0;34m(\u001b[0m\u001b[0muser_impression_ID\u001b[0m\u001b[0;34m)\u001b[0m\u001b[0;34m\u001b[0m\u001b[0;34m\u001b[0m\u001b[0m\n\u001b[1;32m      3\u001b[0m   \u001b[0mnormalized_history\u001b[0m \u001b[0;34m=\u001b[0m \u001b[0mIR_functions\u001b[0m\u001b[0;34m.\u001b[0m\u001b[0mnormalizeHistory\u001b[0m\u001b[0;34m(\u001b[0m\u001b[0muser_history\u001b[0m\u001b[0;34m)\u001b[0m\u001b[0;34m\u001b[0m\u001b[0;34m\u001b[0m\u001b[0m\n\u001b[1;32m      4\u001b[0m \u001b[0;34m\u001b[0m\u001b[0m\n\u001b[1;32m      5\u001b[0m   \u001b[0muser_impression\u001b[0m \u001b[0;34m=\u001b[0m \u001b[0mdp\u001b[0m\u001b[0;34m.\u001b[0m\u001b[0mgetImpression\u001b[0m\u001b[0;34m(\u001b[0m\u001b[0muser_impression_ID\u001b[0m\u001b[0;34m,\u001b[0m \u001b[0mdata_type\u001b[0m \u001b[0;34m=\u001b[0m \u001b[0;34m'test'\u001b[0m\u001b[0;34m)\u001b[0m\u001b[0;34m\u001b[0m\u001b[0;34m\u001b[0m\u001b[0m\n",
      "\u001b[0;31mNameError\u001b[0m: name 'number_of_impressions' is not defined"
     ]
    }
   ],
   "source": [
    "for user_impression_ID in range(1, number_of_impressions):\n",
    "  user_history = dp.getHistory(user_impression_ID)\n",
    "  normalized_history = IR_functions.normalizeHistory(user_history)\n",
    "  \n",
    "  user_impression = dp.getImpression(user_impression_ID, data_type = 'test')\n",
    "\n",
    "  score = IR_functions.cosSimilarity(normalized_history, user_impression[0])\n",
    "  #score_list.append(score)\n",
    "\n",
    "  #truth.append(user_impression[1])\n",
    "\n",
    "  answer = IR_functions.sortCandidateNews(score)\n",
    "  answer_list.append(answer)\n"
   ]
  },
  {
   "cell_type": "code",
   "execution_count": 20,
   "metadata": {},
   "outputs": [],
   "source": [
    "import numpy as np\n",
    "import os\n",
    "\n",
    "with open(os.path.join('../result', 'prediction.txt'), 'w') as f:\n",
    "  impr_index = 0\n",
    "  for preds in answer_list:\n",
    "      impr_index += 1\n",
    "      pred_rank = '[' + ','.join([str(i) for i in preds]) + ']' \n",
    "      f.write(' '.join([str(impr_index), pred_rank])+ '\\n')"
   ]
  },
  {
   "cell_type": "code",
   "execution_count": null,
   "metadata": {},
   "outputs": [],
   "source": []
  }
 ],
 "metadata": {
  "interpreter": {
   "hash": "2f98bebb5ac28debbd84e39f7906392814c87ccdee46a21d644c3351213bc18f"
  },
  "kernelspec": {
   "display_name": "Python 3",
   "language": "python",
   "name": "python3"
  },
  "language_info": {
   "codemirror_mode": {
    "name": "ipython",
    "version": 3
   },
   "file_extension": ".py",
   "mimetype": "text/x-python",
   "name": "python",
   "nbconvert_exporter": "python",
   "pygments_lexer": "ipython3",
   "version": "3.8.3"
  }
 },
 "nbformat": 4,
 "nbformat_minor": 2
}
